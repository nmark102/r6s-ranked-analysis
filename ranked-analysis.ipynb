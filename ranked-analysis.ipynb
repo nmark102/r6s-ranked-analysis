{
 "cells": [
  {
   "cell_type": "code",
   "execution_count": 1,
   "metadata": {},
   "outputs": [],
   "source": [
    "# Libraries\n",
    "from matplotlib import pyplot as plt\n",
    "import pandas as pd\n",
    "import numpy as np\n",
    "import sklearn"
   ]
  },
  {
   "cell_type": "code",
   "execution_count": 5,
   "metadata": {},
   "outputs": [],
   "source": [
    "# Default settings and constants\n",
    "DUMP_BASE_FILE = \"./data/datadump_s5-0\""
   ]
  },
  {
   "cell_type": "code",
   "execution_count": 13,
   "metadata": {
    "scrolled": true
   },
   "outputs": [
    {
     "ename": "MergeError",
     "evalue": "No common columns to perform merge on. Merge options: left_on=None, right_on=None, left_index=False, right_index=False",
     "output_type": "error",
     "traceback": [
      "\u001b[1;31m---------------------------------------------------------------------------\u001b[0m",
      "\u001b[1;31mMergeError\u001b[0m                                Traceback (most recent call last)",
      "\u001b[1;32m~\\AppData\\Local\\Temp\\ipykernel_16348\\1724602152.py\u001b[0m in \u001b[0;36m<module>\u001b[1;34m\u001b[0m\n\u001b[0;32m      8\u001b[0m \u001b[1;33m\u001b[0m\u001b[0m\n\u001b[0;32m      9\u001b[0m     \u001b[0mdump_i\u001b[0m \u001b[1;33m=\u001b[0m \u001b[0mpd\u001b[0m\u001b[1;33m.\u001b[0m\u001b[0mread_csv\u001b[0m\u001b[1;33m(\u001b[0m\u001b[0mDUMP_BASE_FILE\u001b[0m \u001b[1;33m+\u001b[0m \u001b[0mfile_suffix\u001b[0m \u001b[1;33m+\u001b[0m \u001b[1;34m\".csv\"\u001b[0m\u001b[1;33m)\u001b[0m\u001b[1;33m\u001b[0m\u001b[1;33m\u001b[0m\u001b[0m\n\u001b[1;32m---> 10\u001b[1;33m     \u001b[0mmatchesDf\u001b[0m \u001b[1;33m=\u001b[0m \u001b[0mpd\u001b[0m\u001b[1;33m.\u001b[0m\u001b[0mmerge\u001b[0m\u001b[1;33m(\u001b[0m\u001b[0mmatchesDf\u001b[0m\u001b[1;33m,\u001b[0m \u001b[0mdump_i\u001b[0m\u001b[1;33m,\u001b[0m \u001b[0mhow\u001b[0m\u001b[1;33m=\u001b[0m\u001b[1;34m\"outer\"\u001b[0m\u001b[1;33m)\u001b[0m\u001b[1;33m\u001b[0m\u001b[1;33m\u001b[0m\u001b[0m\n\u001b[0m",
      "\u001b[1;32mc:\\ProgramData\\Anaconda3\\lib\\site-packages\\pandas\\core\\reshape\\merge.py\u001b[0m in \u001b[0;36mmerge\u001b[1;34m(left, right, how, on, left_on, right_on, left_index, right_index, sort, suffixes, copy, indicator, validate)\u001b[0m\n\u001b[0;32m    105\u001b[0m     \u001b[0mvalidate\u001b[0m\u001b[1;33m:\u001b[0m \u001b[0mstr\u001b[0m \u001b[1;33m|\u001b[0m \u001b[1;32mNone\u001b[0m \u001b[1;33m=\u001b[0m \u001b[1;32mNone\u001b[0m\u001b[1;33m,\u001b[0m\u001b[1;33m\u001b[0m\u001b[1;33m\u001b[0m\u001b[0m\n\u001b[0;32m    106\u001b[0m ) -> DataFrame:\n\u001b[1;32m--> 107\u001b[1;33m     op = _MergeOperation(\n\u001b[0m\u001b[0;32m    108\u001b[0m         \u001b[0mleft\u001b[0m\u001b[1;33m,\u001b[0m\u001b[1;33m\u001b[0m\u001b[1;33m\u001b[0m\u001b[0m\n\u001b[0;32m    109\u001b[0m         \u001b[0mright\u001b[0m\u001b[1;33m,\u001b[0m\u001b[1;33m\u001b[0m\u001b[1;33m\u001b[0m\u001b[0m\n",
      "\u001b[1;32mc:\\ProgramData\\Anaconda3\\lib\\site-packages\\pandas\\core\\reshape\\merge.py\u001b[0m in \u001b[0;36m__init__\u001b[1;34m(self, left, right, how, on, left_on, right_on, axis, left_index, right_index, sort, suffixes, copy, indicator, validate)\u001b[0m\n\u001b[0;32m    680\u001b[0m             \u001b[0mwarnings\u001b[0m\u001b[1;33m.\u001b[0m\u001b[0mwarn\u001b[0m\u001b[1;33m(\u001b[0m\u001b[0mmsg\u001b[0m\u001b[1;33m,\u001b[0m \u001b[0mFutureWarning\u001b[0m\u001b[1;33m,\u001b[0m \u001b[0mstacklevel\u001b[0m\u001b[1;33m=\u001b[0m\u001b[0mfind_stack_level\u001b[0m\u001b[1;33m(\u001b[0m\u001b[1;33m)\u001b[0m\u001b[1;33m)\u001b[0m\u001b[1;33m\u001b[0m\u001b[1;33m\u001b[0m\u001b[0m\n\u001b[0;32m    681\u001b[0m \u001b[1;33m\u001b[0m\u001b[0m\n\u001b[1;32m--> 682\u001b[1;33m         \u001b[0mself\u001b[0m\u001b[1;33m.\u001b[0m\u001b[0m_validate_specification\u001b[0m\u001b[1;33m(\u001b[0m\u001b[1;33m)\u001b[0m\u001b[1;33m\u001b[0m\u001b[1;33m\u001b[0m\u001b[0m\n\u001b[0m\u001b[0;32m    683\u001b[0m \u001b[1;33m\u001b[0m\u001b[0m\n\u001b[0;32m    684\u001b[0m         \u001b[0mcross_col\u001b[0m \u001b[1;33m=\u001b[0m \u001b[1;32mNone\u001b[0m\u001b[1;33m\u001b[0m\u001b[1;33m\u001b[0m\u001b[0m\n",
      "\u001b[1;32mc:\\ProgramData\\Anaconda3\\lib\\site-packages\\pandas\\core\\reshape\\merge.py\u001b[0m in \u001b[0;36m_validate_specification\u001b[1;34m(self)\u001b[0m\n\u001b[0;32m   1351\u001b[0m                 \u001b[0mcommon_cols\u001b[0m \u001b[1;33m=\u001b[0m \u001b[0mleft_cols\u001b[0m\u001b[1;33m.\u001b[0m\u001b[0mintersection\u001b[0m\u001b[1;33m(\u001b[0m\u001b[0mright_cols\u001b[0m\u001b[1;33m)\u001b[0m\u001b[1;33m\u001b[0m\u001b[1;33m\u001b[0m\u001b[0m\n\u001b[0;32m   1352\u001b[0m                 \u001b[1;32mif\u001b[0m \u001b[0mlen\u001b[0m\u001b[1;33m(\u001b[0m\u001b[0mcommon_cols\u001b[0m\u001b[1;33m)\u001b[0m \u001b[1;33m==\u001b[0m \u001b[1;36m0\u001b[0m\u001b[1;33m:\u001b[0m\u001b[1;33m\u001b[0m\u001b[1;33m\u001b[0m\u001b[0m\n\u001b[1;32m-> 1353\u001b[1;33m                     raise MergeError(\n\u001b[0m\u001b[0;32m   1354\u001b[0m                         \u001b[1;34m\"No common columns to perform merge on. \"\u001b[0m\u001b[1;33m\u001b[0m\u001b[1;33m\u001b[0m\u001b[0m\n\u001b[0;32m   1355\u001b[0m                         \u001b[1;34mf\"Merge options: left_on={self.left_on}, \"\u001b[0m\u001b[1;33m\u001b[0m\u001b[1;33m\u001b[0m\u001b[0m\n",
      "\u001b[1;31mMergeError\u001b[0m: No common columns to perform merge on. Merge options: left_on=None, right_on=None, left_index=False, right_index=False"
     ]
    }
   ],
   "source": [
    "# Create and init a dataframe from the dumps\n",
    "# (note: there are 23 in total)\n",
    "matchesDf = pd.DataFrame()\n",
    "\n",
    "for i in range(22):\n",
    "    file_suffix = str(i)\n",
    "    if i < 10:\n",
    "        file_suffix = \"0\" + file_suffix\n",
    "\n",
    "    dump_i = pd.read_csv(DUMP_BASE_FILE + file_suffix + \".csv\")\n",
    "    matchesDf = pd.merge(matchesDf, dump_i, how=\"outer\")\n"
   ]
  },
  {
   "cell_type": "code",
   "execution_count": null,
   "metadata": {},
   "outputs": [
    {
     "name": "stdout",
     "output_type": "stream",
     "text": [
      "           dateid platform     gamemode mapname     matchid  roundnumber  \\\n",
      "0        20170221      PS4      HOSTAGE    BANK  1368316041            1   \n",
      "1        20170221      PS4      HOSTAGE    BANK  1368316041            4   \n",
      "2        20170221      PS4      HOSTAGE    BANK  1368316041            7   \n",
      "3        20170221      PS4      HOSTAGE    BANK  1368316041            5   \n",
      "4        20170221      PS4      HOSTAGE    BANK  1368316041            6   \n",
      "...           ...      ...          ...     ...         ...          ...   \n",
      "7999995  20170223      PS4  SECURE_AREA   HOUSE   977823561            1   \n",
      "7999996  20170223      PS4  SECURE_AREA   HOUSE   977823561            5   \n",
      "7999997  20170223      PS4  SECURE_AREA   HOUSE   977823561            1   \n",
      "7999998  20170223      PS4  SECURE_AREA   HOUSE   977823561            5   \n",
      "7999999  20170223      PS4  SECURE_AREA   HOUSE   977823561            5   \n",
      "\n",
      "        objectivelocation   winrole       endroundreason  roundduration  ...  \\\n",
      "0                   VAULT  Attacker  DefendersEliminated            142  ...   \n",
      "1                   VAULT  Defender  AttackersEliminated            156  ...   \n",
      "2              STAFF_ROOM  Attacker  DefendersEliminated            138  ...   \n",
      "3              STAFF_ROOM  Defender  AttackersEliminated            165  ...   \n",
      "4              STAFF_ROOM  Defender  AttackersEliminated            158  ...   \n",
      "...                   ...       ...                  ...            ...  ...   \n",
      "7999995    MASTER_BEDROOM  Attacker  DefendersEliminated            181  ...   \n",
      "7999996     KID'S_BEDROOM  Attacker  DefendersEliminated            185  ...   \n",
      "7999997    MASTER_BEDROOM  Attacker  DefendersEliminated            181  ...   \n",
      "7999998     KID'S_BEDROOM  Attacker  DefendersEliminated            185  ...   \n",
      "7999999     KID'S_BEDROOM  Attacker  DefendersEliminated            185  ...   \n",
      "\n",
      "         primarygrip primaryunderbarrel primarybarrel  secondaryweapon  \\\n",
      "0               None               None          None        BEARING_9   \n",
      "1           Vertical               None         Flash               P9   \n",
      "2              Angle               None          None           ITA12S   \n",
      "3               None               None          None        BEARING_9   \n",
      "4           Vertical               None          None              PMM   \n",
      "...              ...                ...           ...              ...   \n",
      "7999995         None               None   Compensator          MK1_9mm   \n",
      "7999996         None               None   Compensator          MK1_9mm   \n",
      "7999997        Angle               None   HeavyBarrel          MK1_9mm   \n",
      "7999998     Vertical              Laser   MuzzleBrake          5.7_USG   \n",
      "7999999     Vertical               None   MuzzleBrake        BEARING_9   \n",
      "\n",
      "         secondaryweapontype secondarysight  secondarygrip  \\\n",
      "0            Submachine_Guns         RedDot           None   \n",
      "1                    Pistols           None           None   \n",
      "2                   Shotguns        EosHolo           None   \n",
      "3            Submachine_Guns         RedDot           None   \n",
      "4                    Pistols           None           None   \n",
      "...                      ...            ...            ...   \n",
      "7999995              Pistols           None           None   \n",
      "7999996              Pistols           None           None   \n",
      "7999997              Pistols           None           None   \n",
      "7999998              Pistols           None           None   \n",
      "7999999      Submachine_Guns        EosHolo           None   \n",
      "\n",
      "         secondaryunderbarrel secondarybarrel    secondarygadget  \n",
      "0                        None            None       STUN_GRENADE  \n",
      "1                        None            None     IMPACT_GRENADE  \n",
      "2                        None            None      BREACH_CHARGE  \n",
      "3                        None            None       STUN_GRENADE  \n",
      "4                        None            None      BREACH_CHARGE  \n",
      "...                       ...             ...                ...  \n",
      "7999995                  None     MuzzleBrake       FRAG_GRENADE  \n",
      "7999996                  None     MuzzleBrake       FRAG_GRENADE  \n",
      "7999997                  None            None  DEPLOYABLE_SHIELD  \n",
      "7999998                  None     MuzzleBrake           CLAYMORE  \n",
      "7999999                  None            None       STUN_GRENADE  \n",
      "\n",
      "[8000000 rows x 31 columns]\n"
     ]
    }
   ],
   "source": [
    "print(matches.head())\n",
    "print(len(matches.index()))"
   ]
  },
  {
   "cell_type": "code",
   "execution_count": 11,
   "metadata": {},
   "outputs": [],
   "source": [
    "# Read operators and objectives\n",
    "operators = pd.read_csv(\"./data/operator_loadout/datadump_s5_summary_operator_loadout.csv\")\n",
    "objectives = pd.read_csv(\"./data/summary_objectives/datadump_s5_summary_objectives.csv\")"
   ]
  },
  {
   "cell_type": "code",
   "execution_count": 14,
   "metadata": {},
   "outputs": [
    {
     "name": "stdout",
     "output_type": "stream",
     "text": [
      "  platform    dateid skillrank      role       operator primaryweapon  \\\n",
      "0       PC  20170210    Bronze  Attacker   BOPE-CAPITAO          M249   \n",
      "1       PC  20170210    Bronze  Attacker   BOPE-CAPITAO          M249   \n",
      "2       PC  20170210    Bronze  Attacker   BOPE-CAPITAO      PARA-308   \n",
      "3       PC  20170210    Bronze  Attacker   BOPE-CAPITAO      PARA-308   \n",
      "4       PC  20170210    Bronze  Attacker  G.E.O.-JACKAL           C7E   \n",
      "\n",
      "  secondaryweapon secondarygadget  nbwins  nbkills  nbdeaths  nbpicks  \n",
      "0           PRB92        CLAYMORE       6        6         6        8  \n",
      "1           PRB92    STUN GRENADE       4        2         6        8  \n",
      "2           PRB92        CLAYMORE      37       40        49       70  \n",
      "3           PRB92    STUN GRENADE      17       24        31       41  \n",
      "4          ITA12S   BREACH CHARGE      74      123       127      174  \n",
      "Index(['platform', 'dateid', 'skillrank', 'role', 'operator', 'primaryweapon',\n",
      "       'secondaryweapon', 'secondarygadget', 'nbwins', 'nbkills', 'nbdeaths',\n",
      "       'nbpicks'],\n",
      "      dtype='object')\n",
      "509692\n",
      "  platform    dateid gamemode mapname            objectivelocation skillrank  \\\n",
      "0       PC  20170210     BOMB    BANK  EXECUTIVE_LOUNGE-CEO_OFFICE    Bronze   \n",
      "1       PC  20170210     BOMB    BANK  EXECUTIVE_LOUNGE-CEO_OFFICE    Bronze   \n",
      "2       PC  20170210     BOMB    BANK  EXECUTIVE_LOUNGE-CEO_OFFICE    Bronze   \n",
      "3       PC  20170210     BOMB    BANK  EXECUTIVE_LOUNGE-CEO_OFFICE    Bronze   \n",
      "4       PC  20170210     BOMB    BANK  EXECUTIVE_LOUNGE-CEO_OFFICE    Bronze   \n",
      "\n",
      "       role       operator  nbwins  nbkills  nbdeaths  nbpicks  \n",
      "0  Attacker  G.E.O.-JACKAL       0        0         1        1  \n",
      "1  Attacker  GIGN-MONTAGNE       1        0         2        3  \n",
      "2  Attacker        GSG9-IQ       0        0         1        1  \n",
      "3  Attacker      JTF2-BUCK       0        0         1        1  \n",
      "4  Attacker   SAS-THATCHER       0        0         1        1  \n",
      "Index(['platform', 'dateid', 'gamemode', 'mapname', 'objectivelocation',\n",
      "       'skillrank', 'role', 'operator', 'nbwins', 'nbkills', 'nbdeaths',\n",
      "       'nbpicks'],\n",
      "      dtype='object')\n",
      "8785348\n"
     ]
    }
   ],
   "source": [
    "print(operators.head())\n",
    "print(operators.columns)\n",
    "print(len(operators.index))\n",
    "\n",
    "print(objectives.head())\n",
    "print(objectives.columns)\n",
    "print(len(objectives.index))"
   ]
  }
 ],
 "metadata": {
  "kernelspec": {
   "display_name": "Python 3 (ipykernel)",
   "language": "python",
   "name": "python3"
  },
  "language_info": {
   "codemirror_mode": {
    "name": "ipython",
    "version": 3
   },
   "file_extension": ".py",
   "mimetype": "text/x-python",
   "name": "python",
   "nbconvert_exporter": "python",
   "pygments_lexer": "ipython3",
   "version": "3.9.13"
  }
 },
 "nbformat": 4,
 "nbformat_minor": 2
}
